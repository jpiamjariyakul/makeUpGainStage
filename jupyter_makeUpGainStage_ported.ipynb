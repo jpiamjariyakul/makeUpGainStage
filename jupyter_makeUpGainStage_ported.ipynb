{
 "metadata": {
  "language_info": {
   "codemirror_mode": {
    "name": "ipython",
    "version": 3
   },
   "file_extension": ".py",
   "mimetype": "text/x-python",
   "name": "python",
   "nbconvert_exporter": "python",
   "pygments_lexer": "ipython3",
   "version": "3.8.5"
  },
  "orig_nbformat": 4,
  "kernelspec": {
   "name": "python3",
   "display_name": "Python 3.8.5 64-bit"
  },
  "interpreter": {
   "hash": "34094a0f6fde804b3cf12da25a883fe13edb26bc9df69fa9ff4d018ab3bbdee8"
  }
 },
 "nbformat": 4,
 "nbformat_minor": 2,
 "cells": [
  {
   "cell_type": "markdown",
   "source": [
    "# A novel Make-Up Gain stage for the software-based Moog 4-pole audio filter (Python Demo)\r\n",
    "\r\n",
    "Author: Jay Piamjariyakul\r\n",
    "\r\n",
    "Supervisor: Dr. Paul Hill\r\n",
    "\r\n",
    "Originally written in MATLAB, ported to Python\r\n",
    "\r\n",
    "Part of the University of Bristol's EENGM8889 \"Individual Research Project 4\" unit\r\n",
    "***\r\n",
    "## Sources\r\n",
    "### Dimensionless nonlinear digital Moog VCF difference equations:\r\n",
    "- P. Daly, \"A comparison of virtual analogue Moog VCF models,\" Master's thesis, Univ. ofEdinburgh, Edinburgh, UK, Aug, 2012.\r\n",
    "\r\n",
    "### Original nonlinear VCF implementation:\r\n",
    "- A. Huovilainen, \"Non-linear digital implementation of the Moog ladder filter,\" in Proceed-ings of the International conference on Digital Audio Effects (DAFx-04), 2004\r\n",
    "\r\n",
    "### Original implementation of the RLB filter:\r\n",
    "- G. A. Soulodre, \"Evaluation of objective loudness meters,\" in Audio Engineering SocietyConvention 116, Audio Engineering Society, 2004.\r\n",
    "\r\n",
    "### Method for obtaining parameter values at any fs:\r\n",
    "- D. Ward, \"Applications of loudness models in audio engineering,\" Ph.D. dissertation, Birmingham City University, 2017\r\n",
    "\r\n",
    "### Original parameter values for fs=48000 Hz:\r\n",
    "- International Telecommunications Union, \"ITU-R BS.1770 Algorithms to measure audioprogramme loudness and true-peak audio level,\" 2006\r\n",
    "\r\n",
    "***"
   ],
   "metadata": {}
  },
  {
   "cell_type": "markdown",
   "source": [
    "## 1) Preliminaries\r\n",
    "\r\n",
    "Let us import numpy for the numerical processing. We will also import matplotlib to plot the output data, and wavfile to read input audio."
   ],
   "metadata": {}
  },
  {
   "cell_type": "code",
   "execution_count": 53,
   "source": [
    "import numpy as np\r\n",
    "import matplotlib.pyplot as plt\r\n",
    "from scipy import signal\r\n",
    "from scipy.io import wavfile"
   ],
   "outputs": [],
   "metadata": {}
  },
  {
   "cell_type": "markdown",
   "source": [
    "Now we can define the parameters used throughout the algorithm.\r\n",
    "\r\n",
    "Since this is a digital filter, we will require the sampling frequency and the cutoff frequency. As stated by Huovilainen, we will also define the feedback gain that gives the Moog LPF its iconic 'warmth'. We can specify the cutoff frequency and feedback gain below."
   ],
   "metadata": {}
  },
  {
   "cell_type": "code",
   "execution_count": 54,
   "source": [
    "Fc = 440            # Cutoff frequency of Moog filter (Hz)\r\n",
    "gainFeedbk = 3.99   # Feedback gain of Moog filter"
   ],
   "outputs": [],
   "metadata": {}
  },
  {
   "cell_type": "markdown",
   "source": [
    "We can now define the input. In this example let us use an impulse.\r\n"
   ],
   "metadata": {}
  },
  {
   "cell_type": "code",
   "execution_count": 68,
   "source": [
    "flag_input = \"square\" # Choose between [\"impulse\", \"square\", \"wavfile\"]\r\n",
    "duration = 0.1   # Specify the signal duration (seconds)\r\n",
    "Fs = 44100       # Specify the sampling frequency (Hz)\r\n",
    "F_generate = 220 # Specify the frequency of the generated periodic signal (Hz)\r\n",
    "# These values are redundant if wav file input specified\r\n",
    "\r\n",
    "if (flag_input == \"wavfile\"):\r\n",
    "    [Fs, in_audio] = wavfile.read(\"./audio_testdata/waterNight_chords_harmonics.wav\")\r\n",
    "    in_audio = np.array(in_audio, dtype=float) / (2 ** 15)\r\n",
    "    duration = in_audio.shape[0] / Fs   # Signal duration (seconds)\r\n",
    "    t = np.arange(0, duration, 1/Fs)    # Time array (seconds)\r\n",
    "else:\r\n",
    "    t = np.arange(0, duration, 1/Fs)    # Time array (seconds)\r\n",
    "    t = t[1:] # Trims the first timestamp\r\n",
    "    in_audio = np.zeros((t.size, 2))\r\n",
    "    if   (flag_input == \"impulse\"):\r\n",
    "        in_audio[0] = 1\r\n",
    "    elif (flag_input == \"square\"):\r\n",
    "        in_audio[:, 0] = in_audio[:, 1] = signal.square(2 * np.pi * F_generate * t)\r\n",
    "plt.plot(t, in_audio)"
   ],
   "outputs": [
    {
     "output_type": "execute_result",
     "data": {
      "text/plain": [
       "[<matplotlib.lines.Line2D at 0x279b5a233a0>,\n",
       " <matplotlib.lines.Line2D at 0x279b5a23910>]"
      ]
     },
     "metadata": {},
     "execution_count": 68
    },
    {
     "output_type": "display_data",
     "data": {
      "text/plain": [
       "<Figure size 432x288 with 1 Axes>"
      ],
      "image/png": "[encoded data removed]"
     },
     "metadata": {
      "needs_background": "light"
     }
    }
   ],
   "metadata": {}
  },
  {
   "cell_type": "markdown",
   "source": [
    "We can now define the other parameters derived from the pre-defined variables shown above.\n"
   ],
   "metadata": {}
  },
  {
   "cell_type": "code",
   "execution_count": 69,
   "source": [
    "range_f         = np.arange(1, Fs/2)            # Frequency range of plots (half since mirror) (Hz)\r\n",
    "range_f_norm    = range_f * (2 * np.pi) / Fs    # Normalised frequency range\r\n",
    "# Remember: Python arrays start at 0"
   ],
   "outputs": [],
   "metadata": {}
  },
  {
   "cell_type": "markdown",
   "source": [
    "## 2) Runs filter on specified signal\r\n",
    "\r\n",
    "We have to specify the weighting coefficient of the VCF as described by the following in Daly's thesis:\r\n",
    "$$\r\n",
    "g = 1 - e^{-2\\pi (F_c/F_s)} \\equiv 1 - e^{-\\omega_c/F_s}\r\n",
    "$$"
   ],
   "metadata": {}
  },
  {
   "cell_type": "code",
   "execution_count": 70,
   "source": [
    "coefWeight_vcf = 1 - np.exp( (-2 * np.pi) * ( Fc / Fs ) )\r\n",
    "print(\"Weighting coefficient: {}\".format(coefWeight_vcf))"
   ],
   "outputs": [
    {
     "output_type": "stream",
     "name": "stdout",
     "text": [
      "Weighting coefficient: 0.06076482377125092\n"
     ]
    }
   ],
   "metadata": {}
  },
  {
   "cell_type": "markdown",
   "source": [
    "Let us now define the VCF function. The algorithm defined in Daly's thesis is comprised of iterative equations:\n",
    "$$\n",
    "y_0[n] = x[n] - \\frac{k}{2} \\left( y_4[n-1] + y_4[n-2] \\right)\n",
    "\\\\\n",
    "y_i[n] = y_i[n-1] + g \\left( \\tanh(y_{i-1}[n]) - \\tanh(y_{i}[n-1]) \\right)\n",
    "$$\n",
    "where $x[n]$ is the input audio signal, $y_i[n]$ are the outputs of each Moog ladder stage (such that $i \\in \\{1, 2, 3, 4\\}$), $g$ is the exponential weighting coefficient, and $k$ is the feedback coefficient."
   ],
   "metadata": {}
  },
  {
   "cell_type": "code",
   "execution_count": 71,
   "source": [
    "def f_runVcf(in_audio, g, k):\r\n",
    "    def f_vcf_nonlinear(y, in_val, g, k, y_d2):\r\n",
    "        # Nonlinear implementation at y(4)+y_d2 uses previous value stored\r\n",
    "        # Initial previous value (ie y_d2) = 0\r\n",
    "        y_0 = in_val - (k * (0.5 *(y[3, :] + y_d2)))\r\n",
    "        y[0, :] = y[0, :] + (g * (np.tanh(y_0)     - np.tanh(y[0, :]) ) )\r\n",
    "        y[1, :] = y[1, :] + (g * (np.tanh(y[0, :]) - np.tanh(y[1, :]) ) )\r\n",
    "        y[2, :] = y[2, :] + (g * (np.tanh(y[1, :]) - np.tanh(y[2, :]) ) )\r\n",
    "        # Implement the delayed values, including the 'unit-and-a-half' delay as described by Daly\r\n",
    "        y_d2    = y[3, :]\r\n",
    "        y[3, :] = y[3, :] + (g * (np.tanh(y[2, :]) - np.tanh(y[3, :]) ) )\r\n",
    "        \r\n",
    "        return [y, y_d2]\r\n",
    "\r\n",
    "    y = np.zeros((4, in_audio.shape[1]))\r\n",
    "    y_d2 = 0\r\n",
    "    out = np.zeros((in_audio.shape[0], 2)) # Allocates VCF output memory\r\n",
    "\r\n",
    "    for i_sample in range(0, in_audio.shape[0] - 1):\r\n",
    "        [y, y_d2] = f_vcf_nonlinear(y, in_audio[i_sample, :], g, k, y_d2)\r\n",
    "        out[i_sample, :] = y[3, :]\r\n",
    "    \r\n",
    "    return out"
   ],
   "outputs": [],
   "metadata": {}
  },
  {
   "cell_type": "markdown",
   "source": [
    "Now that we have specified the input and defined the VCF function, let us run the Moog VCF on it."
   ],
   "metadata": {}
  },
  {
   "cell_type": "code",
   "execution_count": 72,
   "source": [
    "out_filtr = f_runVcf(in_audio, coefWeight_vcf, gainFeedbk)\r\n",
    "plt.plot(t, out_filtr)"
   ],
   "outputs": [
    {
     "output_type": "execute_result",
     "data": {
      "text/plain": [
       "[<matplotlib.lines.Line2D at 0x279b5933520>,\n",
       " <matplotlib.lines.Line2D at 0x279b59ab1c0>]"
      ]
     },
     "metadata": {},
     "execution_count": 72
    },
    {
     "output_type": "display_data",
     "data": {
      "text/plain": [
       "<Figure size 432x288 with 1 Axes>"
      ],
      "image/png": "[encoded data removed]"
     },
     "metadata": {
      "needs_background": "light"
     }
    }
   ],
   "metadata": {}
  },
  {
   "cell_type": "markdown",
   "source": [
    "## 4) Runs make-up gain on filtered signal\n",
    "\n",
    "We can now run the make-up gain algorithm on the filtered signal. Before that, however, let us define some essential functions that would implement the whole system.\n",
    "\n",
    "Firstly, let us implement the biquad filter as described by the ITU that implements the K-filtering section. Since they are comprised of the RLB and pre-K filters, both utilising the same biquad model (as described by Ward), we can implement a template for finding their coefficients."
   ],
   "metadata": {}
  },
  {
   "cell_type": "code",
   "execution_count": null,
   "source": [
    "def f_getCoef_template(fil_fc, fil_q, fil_VL, fil_VB, fil_VH, Fs_filter):\r\n",
    "    fil_Omega = np.tan(np.pi * (fil_fc / Fs_filter)) # The only fs-dependent param\r\n",
    "\r\n",
    "    fil_coef_a = [  (fil_Omega ** 2) + (fil_Omega / fil_q) + 1, # Coefficient a0\r\n",
    "                    2 * ((fil_Omega ** 2) - 1),                 # Coefficient a1\r\n",
    "                    (fil_Omega ** 2) - (fil_Omega / fil_q) + 1  # Coefficient a2\r\n",
    "                    ]\r\n",
    "\r\n",
    "    fil_coef_b = [  (fil_VL * fil_Omega ** 2) + (fil_VB * fil_Omega / fil_q) + fil_VH, # Coefficient b0\r\n",
    "                    2 * ((fil_VL * fil_Omega ** 2) - fil_VH),                          # Coefficient b1\r\n",
    "                    (fil_VL * fil_Omega ** 2) - (fil_VB * fil_Omega / fil_q) + fil_VH  # Coefficient b2\r\n",
    "                    ]\r\n",
    "\r\n",
    "    fil_coef_b = fil_coef_b / fil_coef_a[0]; # Normalise coefficients to a0\r\n",
    "    fil_coef_a = fil_coef_a / fil_coef_a[0]; # Normalise coefficients to a0\r\n",
    "\r\n",
    "    return [fil_coef_b, fil_coef_a]"
   ],
   "outputs": [],
   "metadata": {}
  },
  {
   "cell_type": "markdown",
   "source": [
    "We can now define both RLB and pre-K filters as their own functions. Both functions call the base biquad coefficient calculation function to calculate the coefficients' values for each respective filters' parameters. The calculation process can be found in Ward's thesis."
   ],
   "metadata": {}
  },
  {
   "cell_type": "code",
   "execution_count": null,
   "source": [
    "# RLB filter's coefficient definitions\n",
    "def f_getCoef_rlb(Fs_filter):\n",
    "    fil_rlb_fc  = 38.1354709\n",
    "    fil_rlb_q   = 0.5003270\n",
    "    fil_rlb_VL  = 0\n",
    "    fil_rlb_VB  = 0\n",
    "    fil_rlb_VH  = 1.0049949\n",
    "    [fil_rlb_coef_b, fil_rlb_coef_a] = f_getCoef_template(  fil_rlb_fc, fil_rlb_q,\n",
    "                                                            fil_rlb_VL, fil_rlb_VB, fil_rlb_VH,\n",
    "                                                            Fs_filter\n",
    "                                                            )\n",
    "    return [fil_rlb_coef_b, fil_rlb_coef_a]\n",
    "\n",
    "# Pre-K filter's coefficient definitions\n",
    "def f_getCoef_preK(Fs_filter):\n",
    "    fil_preK_fc = 1681.9744510\n",
    "    fil_preK_q  = 0.7071752\n",
    "    fil_preK_VL = 1\n",
    "    fil_preK_VB = 1.2587209\n",
    "    fil_preK_VH = 1.5848647\n",
    "    [fil_preK_coef_b, fil_preK_coef_a] = f_getCoef_template(fil_preK_fc, fil_preK_q,\n",
    "                                                            fil_preK_VL, fil_preK_VB, fil_preK_VH,\n",
    "                                                            Fs_filter\n",
    "                                                            )\n",
    "    return [fil_preK_coef_b, fil_preK_coef_a]"
   ],
   "outputs": [],
   "metadata": {}
  },
  {
   "cell_type": "markdown",
   "source": [
    "With this, we can now define the 1-dimensional filter's algorithm. This is a bespoke-written algorithm as, while NumPy surely offers a 1D digital filter algorithm, most of such algorithms do not offer an option (or make it non-straightforward) to also return the delay values within the filter. These delay values are essential to running the filter for consecutive digital samples.\n",
    "\n",
    "The difference equations for a biquad digital filter are:\n",
    "$$\n",
    "w[n] = x[n] - a_1w[n-1] - a_2w[n-2]\n",
    "\\\\\n",
    "y[n] = b_0w[n] + b_1w[n-1] + b_2w[n-2]\n",
    "$$\n",
    "where $y[n]$ is the filter output, $x[n]$ is the filter input, and $w[n]$ are the internal delay values of the filter."
   ],
   "metadata": {}
  },
  {
   "cell_type": "code",
   "execution_count": null,
   "source": [
    "def f_1dFilter(b, a, in_audio, seq_delay):\n",
    "    # MATLAB's version first maps filter coefficients to names to make it easy to understand\n",
    "    # This is because MATLAB's arrays start at 1, while the coefficients (per Ward) are indexed at 0\n",
    "    # However, since this is Python, this is redundant, and we can therefore use the values directly!\n",
    "\n",
    "    out_filt = np.zeros(in_audio.shape[0]) # Instantiates output in memory\n",
    "\n",
    "    delayNow = in_audio - (a[1] * seq_delay[0, :]) - (a[2] * seq_delay[1, :])\n",
    "    out_filt = (b[0] * delayNow) + (b[1] * seq_delay[0, :]) + (b[2] * seq_delay[1, :])\n",
    "\n",
    "    # Reassigns delay values\n",
    "    seq_delay[1, :] = seq_delay[0, :]\n",
    "    seq_delay[0, :] = delayNow\n",
    "\n",
    "    return [out_filt, seq_delay]"
   ],
   "outputs": [],
   "metadata": {}
  },
  {
   "cell_type": "markdown",
   "source": [
    "With these preliminary steps done, we can focus on the make-up gain algorithms. The simple moving average (SMA) algorithm is implemented as a simple moving-RMS filter:\n",
    "$$\n",
    "l_{eq}[n] = l_{eq}[n-1]+\\frac{1}{N}\\left( x_w[n]^2 - x_w[n-N]^2 \\right)\n",
    "\\\\\n",
    "L_{eq}[n] = 10\\log_10(l_{eq}[n])\n",
    "$$\n",
    "where $L_{eq}[n]$ is the logarithmic loudness (in dB), $l_{eq}$ is the non-logarithmic loudness value, and $N$ is the RMS 'window' size. In practice this 'window' can be implemented as a delay line of the same sample amount. The SMA filter is considered to be an FIR filter due to having a finite 'window' length."
   ],
   "metadata": {}
  },
  {
   "cell_type": "code",
   "execution_count": null,
   "source": [
    "def f_makeup_sma(in_refr, out_fil, Fs_filter):\r\n",
    "    sz_channel = in_refr.shape[1]\r\n",
    "\r\n",
    "    # Obtain RLB & Pre-K coefficients\r\n",
    "    [coef_rlb_b, coef_rlb_a] = f_getCoef_rlb(Fs_filter)\r\n",
    "    [coef_prK_b, coef_prK_a] = f_getCoef_preK(Fs_filter)\r\n",
    "    print(\"coef_rlb_b: {}\".format(coef_rlb_b))\r\n",
    "\r\n",
    "    # Set necessary parameters\r\n",
    "    size_window = round(Fs_filter * 0.4); # 0.4s from ITU document\r\n",
    "    # Initialises output memory\r\n",
    "    out_L_sma = np.zeros((in_refr.shape[0], sz_channel))\r\n",
    "\r\n",
    "    # Memory of x[n] and x[n-W]\r\n",
    "    mem_K_f = np.zeros((size_window, sz_channel))\r\n",
    "    mem_K_i = np.zeros((size_window, sz_channel))\r\n",
    "\r\n",
    "    # Previous loudness values\r\n",
    "    mem_sma_L_f = np.zeros((1, sz_channel))\r\n",
    "    mem_sma_L_i = np.zeros((1, sz_channel))\r\n",
    "\r\n",
    "    # Memory of previous delay values in 1D filter\r\n",
    "    delay_f_prK = np.zeros((2, sz_channel))\r\n",
    "    delay_f_rlb = np.zeros((2, sz_channel))\r\n",
    "    delay_i_prK = np.zeros((2, sz_channel))\r\n",
    "    delay_i_rlb = np.zeros((2, sz_channel))\r\n",
    "    # Stores buffer for filters\r\n",
    "\r\n",
    "    # NB: separated assignments since Python doesn't differentate when many variables are assigned the same value\r\n",
    "\r\n",
    "    # Run make-up gain\r\n",
    "    for i_sample in range(0, in_refr.shape[0] - 1):\r\n",
    "        ## 1) Obtain sequence of signals to process\r\n",
    "        val_proc_filtr = out_fil[i_sample, :]\r\n",
    "        val_proc_input = in_refr[i_sample, :]\r\n",
    "\r\n",
    "        ## 2) Filter signals\r\n",
    "        # Applies K weighting on filtered signal\r\n",
    "        [val_proc_filtr, delay_f_prK] = f_1dFilter(coef_prK_b, coef_prK_a, val_proc_filtr, delay_f_prK)\r\n",
    "        [val_proc_filtr, delay_f_rlb] = f_1dFilter(coef_rlb_b, coef_rlb_a, val_proc_filtr, delay_f_rlb)\r\n",
    "        # Applies K weighting on reference signal\r\n",
    "        [val_proc_input, delay_i_prK] = f_1dFilter(coef_prK_b, coef_prK_a, val_proc_input, delay_i_prK)\r\n",
    "        [val_proc_input, delay_i_rlb] = f_1dFilter(coef_rlb_b, coef_rlb_a, val_proc_input, delay_i_rlb)\r\n",
    "        # Processes the first and final values of 'window'\r\n",
    "        mem_K_f = np.append(mem_K_f[1:, :], np.reshape(val_proc_filtr, (1, 2)), axis=0)\r\n",
    "        mem_K_i = np.append(mem_K_i[1:, :], np.reshape(val_proc_input, (1, 2)), axis=0)\r\n",
    "\r\n",
    "        ## 3) Calculate Leq values        \r\n",
    "        mem_sma_L_f = mem_sma_L_f + ((mem_K_f[-1, :] ** 2) - (mem_K_f[0, :] ** 2))/size_window\r\n",
    "        mem_sma_L_i = mem_sma_L_i + ((mem_K_i[-1, :] ** 2) - (mem_K_i[0, :] ** 2))/size_window\r\n",
    "        Leq_filtr = mem_sma_L_f\r\n",
    "        Leq_input = mem_sma_L_i\r\n",
    "        # Converts linear value to LOG\r\n",
    "        log_L_filtr = 10 * np.log10(Leq_filtr)\r\n",
    "        log_L_input = 10 * np.log10(Leq_input)\r\n",
    "\r\n",
    "        # Standard \"ITU-R BS.1770-3\" requires subtracting these LOG vals with –0.691\r\n",
    "        # However, we intend to subtract the values together, so this becomes redundant\r\n",
    "\r\n",
    "        ## 4) Calculate the correcting gain\r\n",
    "        # Find the error value\r\n",
    "        err_L = log_L_input - log_L_filtr\r\n",
    "        # Converts err value to gain\r\n",
    "        gain_corrector = 10 ** (err_L/20)\r\n",
    "        gain_corrector = np.real(gain_corrector)\r\n",
    "\r\n",
    "        ## 5) Corrects value\r\n",
    "        # Corrects NaN values - set to zero\r\n",
    "        gain_corrector[np.isnan(gain_corrector)] = 0\r\n",
    "        # Prevents infinite gain - set to max floating point\r\n",
    "        gain_corrector[np.isinf(gain_corrector)] = np.sign(gain_corrector[np.isinf(gain_corrector)]) * 1000000\r\n",
    "        # Or a really large number!\r\n",
    "\r\n",
    "        ## 6) Apply gain to delayed filter output at sample n\r\n",
    "        out_now = out_fil[i_sample, :] * gain_corrector # Get current output\r\n",
    "        out_L_sma[i_sample, :] = out_now\r\n",
    "\r\n",
    "    return out_L_sma"
   ],
   "outputs": [],
   "metadata": {
    "tags": []
   }
  },
  {
   "cell_type": "markdown",
   "source": [
    "A similar (albeit fundamentally different calculations-wise) algorithm using the exponential moving average filter (EMA) of time constant 125ms (per ITU and EBU) can also be implemented using the following equations:\n",
    "$$\n",
    "l_\\tau[n] = \\alpha x_w[n]^2 + (1-\\alpha)l_\\tau[n-1]\n",
    "\\\\\n",
    "L_\\tau[n] = 10\\log_10(l_\\tau[n])\n",
    "$$\n",
    "where $\\tau$ denotes the time constant of the exponential weighting coefficient $\\alpha$, which is defined as:\n",
    "$$\n",
    "\\alpha = 1 - e^{-1/(f_s\\tau)}\n",
    "$$\n",
    "where $f_s$ is the samplig frequency. Since this results in an infinite 'window' length, the EMA filter is classified as an IIR filter."
   ],
   "metadata": {}
  },
  {
   "cell_type": "code",
   "execution_count": null,
   "source": [
    "def f_makeup_ema(in_refr, out_fil, Fs_filter):\r\n",
    "    sz_channel = in_refr.shape[1]\r\n",
    "\r\n",
    "    # Obtain RLB & Pre-K coefficients\r\n",
    "    [coef_rlb_b, coef_rlb_a] = f_getCoef_rlb(Fs_filter)\r\n",
    "    [coef_prK_b, coef_prK_a] = f_getCoef_preK(Fs_filter)\r\n",
    "\r\n",
    "    # Set necessary parameters\r\n",
    "    const_ema = 0.125 # Time constant of EMA\r\n",
    "    coef_ema = 1 - np.exp(-1 / (Fs_filter * const_ema))\r\n",
    "    # Initialises output memory\r\n",
    "    out_L_ema = np.zeros((in_refr.shape[0], sz_channel))\r\n",
    "\r\n",
    "    # Previous loudness values\r\n",
    "    mem_ema_L_f = np.zeros((1, sz_channel))\r\n",
    "    mem_ema_L_i = np.zeros((1, sz_channel))\r\n",
    "\r\n",
    "    # Memory of previous delay values in 1D filter\r\n",
    "    delay_f_prK = np.zeros((2, sz_channel))\r\n",
    "    delay_f_rlb = np.zeros((2, sz_channel))\r\n",
    "    delay_i_prK = np.zeros((2, sz_channel))\r\n",
    "    delay_i_rlb = np.zeros((2, sz_channel))\r\n",
    "    # Stores buffer for filters\r\n",
    "\r\n",
    "    # Run make-up gain\r\n",
    "    for i_sample in range(0, in_refr.shape[0] - 1):\r\n",
    "        ## 1) Obtain sequence of signals to process\r\n",
    "        val_proc_filtr = out_fil[i_sample, :]\r\n",
    "        val_proc_input = in_refr[i_sample, :]\r\n",
    "\r\n",
    "        ## 2) Filter signals\r\n",
    "        # Applies K weighting on filtered signal\r\n",
    "        [val_proc_filtr, delay_f_prK] = f_1dFilter(coef_prK_b, coef_prK_a, val_proc_filtr, delay_f_prK)\r\n",
    "        [val_proc_filtr, delay_f_rlb] = f_1dFilter(coef_rlb_b, coef_rlb_a, val_proc_filtr, delay_f_rlb)\r\n",
    "        # Applies K weighting on reference signal\r\n",
    "        [val_proc_input, delay_i_prK] = f_1dFilter(coef_prK_b, coef_prK_a, val_proc_input, delay_i_prK)\r\n",
    "        [val_proc_input, delay_i_rlb] = f_1dFilter(coef_rlb_b, coef_rlb_a, val_proc_input, delay_i_rlb)\r\n",
    "\r\n",
    "        ## 3) Finds EMA sequence & stores them\r\n",
    "        # Finds EMA of filtr\r\n",
    "        mem_ema_L_f = (coef_ema * (val_proc_filtr ** 2)) + ((1 - coef_ema) * mem_ema_L_f)\r\n",
    "        # Finds EMA of input\r\n",
    "        mem_ema_L_i = (coef_ema * (val_proc_input ** 2)) + ((1 - coef_ema) * mem_ema_L_i)\r\n",
    "        # Converts vals to log form\r\n",
    "        log_L_filtr = 10 * np.log10(mem_ema_L_f)\r\n",
    "        log_L_input = 10 * np.log10(mem_ema_L_i)\r\n",
    "\r\n",
    "        # Standard \"ITU-R BS.1770-3\" requires subtracting these LOG vals with –0.691\r\n",
    "        # However, we intend to subtract the values together, so this becomes redundant\r\n",
    "\r\n",
    "        ## 4) Calculate the correcting gain\r\n",
    "        # Find the error value\r\n",
    "        err_L = log_L_input - log_L_filtr\r\n",
    "        # Converts err value to gain\r\n",
    "        gain_corrector = 10 ** (err_L / 20)\r\n",
    "\r\n",
    "        ## 5) Corrects value\r\n",
    "        # Corrects NaN values - set to zero\r\n",
    "        gain_corrector[np.isnan(gain_corrector)] = 0\r\n",
    "        # Prevents infinite gain - set to max floating point\r\n",
    "        gain_corrector[np.isinf(gain_corrector)] = np.sign(gain_corrector[np.isinf(gain_corrector)]) * 1000000\r\n",
    "        # Or a really large number!\r\n",
    "\r\n",
    "        ## 6) Apply gain to delayed filter output at sample n\r\n",
    "        out_now = out_fil[i_sample, :] * gain_corrector # Get current output\r\n",
    "        out_L_ema[i_sample, :] = out_now\r\n",
    "    \r\n",
    "    return out_L_ema"
   ],
   "outputs": [],
   "metadata": {}
  },
  {
   "cell_type": "markdown",
   "source": [
    "The algorithms' outputs can be obtained and plotted as shown below:"
   ],
   "metadata": {}
  },
  {
   "cell_type": "code",
   "execution_count": null,
   "source": [
    "out_L_sma = f_makeup_sma(in_audio, out_filtr, Fs) # Make-up gain using SMA\r\n",
    "plt.plot(out_L_sma[:, 0])\r\n",
    "plt.show()\r\n",
    "\r\n",
    "out_L_ema = f_makeup_ema(in_audio, out_filtr, Fs) # Make-up gain using EMA\r\n",
    "plt.plot(out_L_ema[:, 0])\r\n",
    "plt.show()"
   ],
   "outputs": [],
   "metadata": {}
  },
  {
   "cell_type": "markdown",
   "source": [
    "We have now completed the make-up gain implementation.\n",
    "\n",
    "It is observed that, while both methods are fast, the SMA method's runtimes exceed the duration of the audio. This makes it inappropriate to be used in real-time implementation. On the other hand, the EMA method takes less time, if not equal time, to the audio duration, making it more suitable to be implemented in real-time."
   ],
   "metadata": {}
  },
  {
   "cell_type": "markdown",
   "source": [
    "## To-Do\r\n",
    "\r\n",
    "- ~~Include method of reading wave files~~ DONE!\r\n",
    "- Add widgets for selecting input type & changing its parameters\r\n",
    "- Implement the improvements stated in the thesis\r\n",
    "- Implement a file selection widget on this notebook\r\n",
    "- Implement a gating functionality (described in ITU-R BS.1770-3)\r\n",
    "- Implement the algorithm as a EuroRack module (IE FPGA, Arduino, or RaspberryPi)\r\n",
    "- Improvements..? (do let me know!)"
   ],
   "metadata": {}
  }
 ]
}